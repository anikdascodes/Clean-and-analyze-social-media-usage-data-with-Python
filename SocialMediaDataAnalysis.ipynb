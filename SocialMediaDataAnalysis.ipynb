{
 "cells": [
  {
   "cell_type": "markdown",
   "metadata": {},
   "source": [
    "# Clean & Analyze Social Media"
   ]
  },
  {
   "cell_type": "markdown",
   "metadata": {},
   "source": [
    "## Introduction\n",
    "\n",
    "Social media has become a ubiquitous part of modern life, with platforms such as Instagram, Twitter, and Facebook serving as essential communication channels. Social media data sets are vast and complex, making analysis a challenging task for businesses and researchers alike. In this project, we explore a simulated social media, for example Tweets, data set to understand trends in likes across different categories.\n",
    "\n",
    "## Prerequisites\n",
    "\n",
    "To follow along with this project, you should have a basic understanding of Python programming and data analysis concepts. In addition, you may want to use the following packages in your Python environment:\n",
    "\n",
    "- pandas\n",
    "- Matplotlib\n",
    "- ...\n",
    "\n",
    "These packages should already be installed in Coursera's Jupyter Notebook environment, however if you'd like to install additional packages that are not included in this environment or are working off platform you can install additional packages using `!pip install packagename` within a notebook cell such as:\n",
    "\n",
    "- `!pip install pandas`\n",
    "- `!pip install matplotlib`\n",
    "\n",
    "## Project Scope\n",
    "\n",
    "The objective of this project is to analyze tweets (or other social media data) and gain insights into user engagement. We will explore the data set using visualization techniques to understand the distribution of likes across different categories. Finally, we will analyze the data to draw conclusions about the most popular categories and the overall engagement on the platform.\n",
    "\n",
    "## Step 1: Importing Required Libraries\n",
    "\n",
    "As the name suggests, the first step is to import all the necessary libraries that will be used in the project. In this case, we need pandas, numpy, matplotlib, seaborn, and random libraries.\n",
    "\n",
    "Pandas is a library used for data manipulation and analysis. Numpy is a library used for numerical computations. Matplotlib is a library used for data visualization. Seaborn is a library used for statistical data visualization. Random is a library used to generate random numbers."
   ]
  },
  {
   "cell_type": "code",
   "execution_count": 1,
   "metadata": {},
   "outputs": [
    {
     "name": "stdout",
     "output_type": "stream",
     "text": [
      "Requirement already satisfied: pandas in /opt/conda/lib/python3.7/site-packages (1.0.3)\n",
      "Requirement already satisfied: python-dateutil>=2.6.1 in /opt/conda/lib/python3.7/site-packages (from pandas) (2.8.1)\n",
      "Requirement already satisfied: numpy>=1.13.3 in /opt/conda/lib/python3.7/site-packages (from pandas) (1.18.4)\n",
      "Requirement already satisfied: pytz>=2017.2 in /opt/conda/lib/python3.7/site-packages (from pandas) (2020.1)\n",
      "Requirement already satisfied: six>=1.5 in /opt/conda/lib/python3.7/site-packages (from python-dateutil>=2.6.1->pandas) (1.14.0)\n",
      "\u001b[33mWARNING: You are using pip version 21.3.1; however, version 24.0 is available.\n",
      "You should consider upgrading via the '/opt/conda/bin/python3 -m pip install --upgrade pip' command.\u001b[0m\n",
      "Requirement already satisfied: matplotlib in /opt/conda/lib/python3.7/site-packages (3.2.1)\n",
      "Requirement already satisfied: cycler>=0.10 in /opt/conda/lib/python3.7/site-packages (from matplotlib) (0.10.0)\n",
      "Requirement already satisfied: pyparsing!=2.0.4,!=2.1.2,!=2.1.6,>=2.0.1 in /opt/conda/lib/python3.7/site-packages (from matplotlib) (2.4.7)\n",
      "Requirement already satisfied: numpy>=1.11 in /opt/conda/lib/python3.7/site-packages (from matplotlib) (1.18.4)\n",
      "Requirement already satisfied: python-dateutil>=2.1 in /opt/conda/lib/python3.7/site-packages (from matplotlib) (2.8.1)\n",
      "Requirement already satisfied: kiwisolver>=1.0.1 in /opt/conda/lib/python3.7/site-packages (from matplotlib) (1.2.0)\n",
      "Requirement already satisfied: six in /opt/conda/lib/python3.7/site-packages (from cycler>=0.10->matplotlib) (1.14.0)\n",
      "\u001b[33mWARNING: You are using pip version 21.3.1; however, version 24.0 is available.\n",
      "You should consider upgrading via the '/opt/conda/bin/python3 -m pip install --upgrade pip' command.\u001b[0m\n"
     ]
    }
   ],
   "source": [
    "!pip install pandas\n",
    "!pip install matplotlib\n"
   ]
  },
  {
   "cell_type": "code",
   "execution_count": 2,
   "metadata": {},
   "outputs": [],
   "source": [
    "# Task 1: Import required libraries\n",
    "import pandas as pd\n",
    "import numpy as np\n",
    "import matplotlib.pyplot as plt\n",
    "import seaborn as sns\n",
    "import random\n"
   ]
  },
  {
   "cell_type": "markdown",
   "metadata": {},
   "source": [
    "## Task 2 – Generate Random Social Media Data"
   ]
  },
  {
   "cell_type": "code",
   "execution_count": 3,
   "metadata": {},
   "outputs": [],
   "source": [
    "# Task 2: Generate random data for the social media posts\n",
    "\n",
    "# Define categories\n",
    "categories = ['Food', 'Travel', 'Fashion', 'Fitness', 'Music', 'Culture', 'Family', 'Health']\n",
    "\n",
    "# Generate synthetic data\n",
    "n = 500  # number of records\n",
    "data = {\n",
    "    'Date': pd.date_range(start='2021-01-01', periods=n),\n",
    "    'Category': [random.choice(categories) for _ in range(n)],\n",
    "    'Likes': np.random.randint(0, 10000, size=n)\n",
    "}\n"
   ]
  },
  {
   "cell_type": "markdown",
   "metadata": {},
   "source": [
    "## Task 3 – Load the Data into a DataFrame and Explore It"
   ]
  },
  {
   "cell_type": "code",
   "execution_count": 4,
   "metadata": {},
   "outputs": [
    {
     "name": "stdout",
     "output_type": "stream",
     "text": [
      "🔹 DataFrame Head:\n",
      "        Date Category  Likes\n",
      "0 2021-01-01     Food   5799\n",
      "1 2021-01-02  Culture   2623\n",
      "2 2021-01-03    Music   9974\n",
      "3 2021-01-04  Fashion   7862\n",
      "4 2021-01-05  Fashion   7529\n",
      "\n",
      "🔹 DataFrame Info:\n",
      "<class 'pandas.core.frame.DataFrame'>\n",
      "RangeIndex: 500 entries, 0 to 499\n",
      "Data columns (total 3 columns):\n",
      " #   Column    Non-Null Count  Dtype         \n",
      "---  ------    --------------  -----         \n",
      " 0   Date      500 non-null    datetime64[ns]\n",
      " 1   Category  500 non-null    object        \n",
      " 2   Likes     500 non-null    int64         \n",
      "dtypes: datetime64[ns](1), int64(1), object(1)\n",
      "memory usage: 11.8+ KB\n",
      "None\n",
      "\n",
      "🔹 DataFrame Description:\n",
      "             Likes\n",
      "count   500.000000\n",
      "mean   5058.124000\n",
      "std    3026.614114\n",
      "min      19.000000\n",
      "25%    2488.750000\n",
      "50%    5167.000000\n",
      "75%    7779.750000\n",
      "max    9984.000000\n",
      "\n",
      "🔹 Category Counts:\n",
      "Family     71\n",
      "Culture    70\n",
      "Music      69\n",
      "Food       65\n",
      "Fashion    59\n",
      "Travel     59\n",
      "Fitness    55\n",
      "Health     52\n",
      "Name: Category, dtype: int64\n"
     ]
    }
   ],
   "source": [
    "# Task 3: Load the data into a DataFrame and explore it\n",
    "\n",
    "# Create the DataFrame\n",
    "df = pd.DataFrame(data)\n",
    "\n",
    "# View the first 5 rows\n",
    "print(\"🔹 DataFrame Head:\")\n",
    "print(df.head())\n",
    "\n",
    "# Get information about the DataFrame\n",
    "print(\"\\n🔹 DataFrame Info:\")\n",
    "print(df.info())\n",
    "\n",
    "# Summary statistics\n",
    "print(\"\\n🔹 DataFrame Description:\")\n",
    "print(df.describe())\n",
    "\n",
    "# Count of each category\n",
    "print(\"\\n🔹 Category Counts:\")\n",
    "print(df['Category'].value_counts())\n"
   ]
  },
  {
   "cell_type": "markdown",
   "metadata": {},
   "source": [
    "## Task 4 – Clean the Data"
   ]
  },
  {
   "cell_type": "code",
   "execution_count": 5,
   "metadata": {},
   "outputs": [
    {
     "name": "stdout",
     "output_type": "stream",
     "text": [
      "✅ Data cleaned. Shape: (500, 3)\n"
     ]
    }
   ],
   "source": [
    "# Task 4: Clean the data\n",
    "\n",
    "# Drop any null values\n",
    "df.dropna(inplace=True)\n",
    "\n",
    "# Drop duplicate rows\n",
    "df.drop_duplicates(inplace=True)\n",
    "\n",
    "# Convert 'Date' column to datetime (already in datetime64, but good practice)\n",
    "df['Date'] = pd.to_datetime(df['Date'])\n",
    "\n",
    "# Ensure 'Likes' is integer\n",
    "df['Likes'] = df['Likes'].astype(int)\n",
    "\n",
    "# Confirm cleanup\n",
    "print(\"✅ Data cleaned. Shape:\", df.shape)\n"
   ]
  },
  {
   "cell_type": "markdown",
   "metadata": {},
   "source": [
    "## Task 5 – Visualize and Analyze the Data"
   ]
  },
  {
   "cell_type": "markdown",
   "metadata": {},
   "source": [
    " ### Step 5.1 – Histogram of Likes"
   ]
  },
  {
   "cell_type": "code",
   "execution_count": 7,
   "metadata": {},
   "outputs": [
    {
     "data": {
      "image/png": "[encoded data removed]",
      "text/plain": [
       "<Figure size 720x432 with 1 Axes>"
      ]
     },
     "metadata": {
      "needs_background": "light"
     },
     "output_type": "display_data"
    }
   ],
   "source": [
    "# Step 5.1 (Fallback): Histogram using matplotlib\n",
    "plt.figure(figsize=(10, 6))\n",
    "plt.hist(df['Likes'], bins=30, color='skyblue', edgecolor='black')\n",
    "plt.title(\"Distribution of Likes\")\n",
    "plt.xlabel(\"Number of Likes\")\n",
    "plt.ylabel(\"Frequency\")\n",
    "plt.grid(True)\n",
    "plt.show()\n"
   ]
  },
  {
   "cell_type": "markdown",
   "metadata": {},
   "source": [
    "### Step 5.2 – Boxplot of Likes by Category"
   ]
  },
  {
   "cell_type": "code",
   "execution_count": 8,
   "metadata": {},
   "outputs": [
    {
     "data": {
      "image/png": "[encoded data removed]",
      "text/plain": [
       "<Figure size 864x432 with 1 Axes>"
      ]
     },
     "metadata": {
      "needs_background": "light"
     },
     "output_type": "display_data"
    }
   ],
   "source": [
    "# Step 5.2: Boxplot of Likes by Category\n",
    "plt.figure(figsize=(12, 6))\n",
    "sns.boxplot(x='Category', y='Likes', data=df, palette='pastel')\n",
    "plt.title(\"Likes Distribution by Post Category\")\n",
    "plt.xlabel(\"Category\")\n",
    "plt.ylabel(\"Number of Likes\")\n",
    "plt.xticks(rotation=45)\n",
    "plt.grid(True)\n",
    "plt.show()\n"
   ]
  },
  {
   "cell_type": "markdown",
   "metadata": {},
   "source": [
    "### Step 5.3 – Statistical Analysis: Mean Likes"
   ]
  },
  {
   "cell_type": "code",
   "execution_count": 9,
   "metadata": {},
   "outputs": [
    {
     "name": "stdout",
     "output_type": "stream",
     "text": [
      "📊 Overall Average Likes: 5058.12\n",
      "\n",
      "📊 Average Likes per Category:\n",
      "Category\n",
      "Fashion    5389.084746\n",
      "Culture    5200.557143\n",
      "Music      5151.347826\n",
      "Family     5138.915493\n",
      "Travel     5067.440678\n",
      "Food       4987.015385\n",
      "Fitness    4797.454545\n",
      "Health     4610.884615\n",
      "Name: Likes, dtype: float64\n"
     ]
    }
   ],
   "source": [
    "# Step 5.3: Statistical analysis\n",
    "\n",
    "# Overall average\n",
    "overall_avg = df['Likes'].mean()\n",
    "print(f\"📊 Overall Average Likes: {overall_avg:.2f}\")\n",
    "\n",
    "# Average likes per category\n",
    "category_avg = df.groupby('Category')['Likes'].mean().sort_values(ascending=False)\n",
    "print(\"\\n📊 Average Likes per Category:\")\n",
    "print(category_avg)\n"
   ]
  },
  {
   "cell_type": "markdown",
   "metadata": {},
   "source": [
    "🧠 Key Insights\n",
    "📈 Overall Average Likes: ~5058 — a strong baseline to benchmark individual categories.\n",
    "\n",
    "🥇 Top-Performing Categories:\n",
    "\n",
    "Fashion (~5389) and Culture (~5200) received the highest average likes.\n",
    "\n",
    "These categories might benefit from increased posting frequency or budget allocation.\n",
    "\n",
    "📉 Low-Performing Categories:\n",
    "\n",
    "Health and Fitness had lower average likes. These could be improved with engaging visuals, trending hashtags, or influencer collaborations.\n",
    "\n"
   ]
  },
  {
   "cell_type": "code",
   "execution_count": null,
   "metadata": {},
   "outputs": [],
   "source": []
  }
 ],
 "metadata": {
  "kernelspec": {
   "display_name": "Python 3",
   "language": "python",
   "name": "python3"
  },
  "language_info": {
   "codemirror_mode": {
    "name": "ipython",
    "version": 3
   },
   "file_extension": ".py",
   "mimetype": "text/x-python",
   "name": "python",
   "nbconvert_exporter": "python",
   "pygments_lexer": "ipython3",
   "version": "3.7.6"
  }
 },
 "nbformat": 4,
 "nbformat_minor": 4
}
